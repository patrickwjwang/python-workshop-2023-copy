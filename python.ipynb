{
  "cells": [
    {
      "cell_type": "raw",
      "metadata": {},
      "source": [
        "---\n",
        "title: Introduction to Python\n",
        "author: \"Chris Paciorek\"\n",
        "date: \"2023-08-11\"\n",
        "format:\n",
        "  html:\n",
        "    theme: cosmo\n",
        "    toc: true\n",
        "    code-copy: true\n",
        "    code-block-background: true\n",
        "---"
      ]
    },
    {
      "cell_type": "code",
      "metadata": {},
      "source": [
        "#| echo: false\n",
        "## For some reason we need a Python (or R) chunk first in the doc or get bash kernel error.\n",
        "z = 1"
      ],
      "execution_count": null,
      "outputs": []
    },
    {
      "cell_type": "markdown",
      "metadata": {},
      "source": [
        "# Background\n",
        "\n",
        "\n",
        "## Preparation\n",
        "\n",
        "\n",
        "This tutorial assumes you are have a bit of familiarity with some high-level language such as R or MATLAB.\n",
        "Some of the exercises as you to compare the Python functionality to functionality in R. Feel free to ignore these if you're not familiar with R.\n",
        "\n",
        "You will also need Python (IPython will also be helpful) installed on your computer, as well as a few core additional packages, including re, numpy, scipy, matplotlib, and pandas.\n",
        "\n",
        "We recommend using [the Anaconda distribution of Python](https://www.anaconda.com/distribution), but you can see various options in the [short course overview](https://berkeley-scf.github.io/python-workshop-2023/#instructions-for-accessing-python).\n",
        "\n",
        "Packages can generally be installed via pip, or via conda if you have the Anaconda or Miniconda installation of Python. The following shows how to do this from the command line (this will work on MacOS or Linux, not sure about Windows).\n",
        "\n",
        "```{bash}\n",
        "conda list\n",
        "conda install numpy\n",
        "\n",
        "## using mamba (a fast drop-in replacement for `conda`)\n",
        "mamba list\n",
        "mamba install numpy\n",
        "\n",
        "## using pip\n",
        "pip install numpy\n",
        "# or to install within your home directory if you do not have admin control of the computer\n",
        "pip install --user numpy\n",
        "\n",
        "```\n",
        "\n",
        "For additional help with installation, please see the [this SCF documentation](https://statistics.berkeley.edu/computing/software/python) or this [Statistics 243 documentation](https://berkeley-stat243.github.io/stat243-fall-2023/howtos/accessingPython.html).\n",
        "\n",
        "\n",
        "## Resources\n",
        "\n",
        "\n",
        "Useful written references and tutorials:\n",
        "\n",
        "-   <https://docs.python.org/3/index.html>\n",
        "-   <https://docs.python.org/3/library/index.html>\n",
        "-   <https://scipy-lectures.github.io/>\n",
        "\n",
        "\n",
        "While working through this tutorial, you should type the example code\n",
        "snippets at an interactive Python terminal. You may wish to use either the\n",
        "IPython shell (which has some additional functionality relative to a plain\n",
        "Python session) or a Jupyter IPython notebook. To start an IPython shell, type\n",
        "the following at a bash prompt:\n",
        "\n",
        "\n",
        "```{bash}\n",
        "ipython\n",
        "```\n",
        "\n",
        "To start an Jupyter IPython notebook locally on your computer, type this at the command line and a notebook should open in your browser.\n",
        "\n",
        "```{bash}\n",
        "jupyter notebook\n",
        "```\n",
        "\n",
        "\n",
        "Alternatively you can access Jupyter notebooks through a service called JupyterHub, in particular the [campus DataHub or SCF JupyterHub](https://berkeley-stat243.github.io/stat243-fall-2023/howtos/accessingPython.html#python-via-jupyter-notebook).\n",
        "\n",
        "Side note: to have all output of printing objects to the screen by typing the object name (not just the last result) printed in the Jupyter notebook, you can run this in a cell in your notebook."
      ]
    },
    {
      "cell_type": "code",
      "metadata": {},
      "source": [
        "#| eval: false\n",
        "from IPython.core.interactiveshell import InteractiveShell\n",
        "InteractiveShell.ast_node_interactivity = \"all\""
      ],
      "execution_count": null,
      "outputs": []
    },
    {
      "cell_type": "markdown",
      "metadata": {},
      "source": [
        "## Python 2 vs. 3\n",
        "\n",
        "Until a few years ago, many people still used Python 2 even though Python 3 was available. It's possible you'll run across Python 2 code or the occasional person still using Python 2.\n",
        "\n",
        "Python 3 is the current version of Python (more specifically Python 3.11), which is in some ways incompatible with Python 2. You should be using Python 3, though most of the code here will also work in Python 2. \n",
        "\n",
        "# Introduction\n",
        "\n",
        "## Formatting Python code\n",
        "\n",
        "Unlike most languages, in Python indentation determines code blocks, including functions, loops, and if-else statements.\n",
        "\n",
        "The standard is 4 spaces (some people use a tab instead), but you can use other spacing if it's consistent within a block of code.\n"
      ]
    },
    {
      "cell_type": "code",
      "metadata": {},
      "source": [
        "#| eval: false\n",
        "a = 3\n",
        " a = 3  # this will cause an IndentationError in Python itself, but not IPython/Jupytr\n",
        "\n",
        "if a>=4:    \n",
        "    print('a is big')\n",
        "    if(a == 4):\n",
        "        print('a is 4')\n",
        "else:\n",
        "    print('a is small')\n",
        "\n",
        "if a>=4:    \n",
        "  print('a is big')\n",
        "  if(a == 4):\n",
        "        print('a is 4')\n",
        "  else:\n",
        "        print('a is not 4')"
      ],
      "execution_count": null,
      "outputs": []
    },
    {
      "cell_type": "markdown",
      "metadata": {},
      "source": [
        "## Objects\n",
        "\n",
        "\n",
        "Everything is an object in Python. Roughly, this means that it can be\n",
        "tagged with a variable (i.e., given a name) and passed as an argument to a function. Objects have *attributes*, which include *fields* and *methods*.\n",
        "\n",
        "Certain objects in Python are mutable (e.g., lists, dictionaries), while\n",
        "other objects are immutable (e.g., tuples, strings, sets). Mutable means one can change parts of the object.\n",
        "\n",
        "Many objects\n",
        "can be composite (e.g., a list of dictionaries or a dictionary of lists,\n",
        "tuples, and strings).\n"
      ]
    },
    {
      "cell_type": "code",
      "metadata": {},
      "source": [
        "myList = [1, 2, 'foo']\n",
        "myList[1] = 2.5\n",
        "myList\n",
        "\n",
        "myTuple = (1, 2, 'foo')\n",
        "try:\n",
        "    myTuple[1] = 2.5\n",
        "except Exception as error:\n",
        "    print(error)\n",
        "myTuple"
      ],
      "execution_count": null,
      "outputs": []
    },
    {
      "cell_type": "markdown",
      "metadata": {},
      "source": [
        "## Variables\n",
        "\n",
        "\n",
        "As in R and other interpreted languages, variables are not their values in Python (think \"I am not my name, I am\n",
        "the person named XXX\"). You can think of variables as tags on objects.\n",
        "In particular, variables can be bound to an object of one type and then\n",
        "reassigned to an object of another type without error."
      ]
    },
    {
      "cell_type": "code",
      "metadata": {},
      "source": [
        "#| error: true\n",
        "a = 'foobar'\n",
        "a\n",
        "a * 4\n",
        "len(a)\n",
        "\n",
        "a = 3\n",
        "a\n",
        "a*4\n",
        "len(a)  "
      ],
      "execution_count": null,
      "outputs": []
    },
    {
      "cell_type": "markdown",
      "metadata": {},
      "source": [
        "## Modules, files, packages, import\n",
        "\n",
        "While you will often explore things from an interactive Python prompt,\n",
        "you will save your code in files for reuse as well as to document what\n",
        "you’ve done. You can use Python code saved in a plain text file (i.e.,\n",
        "a *module*) from a\n",
        "Python prompt or other files by importing it. Typically, this is done at\n",
        "the top of a file (if you are working at a prompt, you just need to\n",
        "import it before you want to use the functionality).\n",
        "\n",
        "```{bash}\n",
        "cat mymod.py  # special IPython functionality to call the operating system\n",
        "```"
      ]
    },
    {
      "cell_type": "code",
      "metadata": {},
      "source": [
        "#| eval: false\n",
        "del(a); del(hello)\n",
        "\n",
        "import mymod\n",
        "\n",
        "mymod.hello()\n",
        "mymod.a\n",
        "\n",
        "hello()\n",
        "a"
      ],
      "execution_count": null,
      "outputs": []
    },
    {
      "cell_type": "markdown",
      "metadata": {},
      "source": [
        "This is convenient, but often not seen as good practice, as is\n",
        "reduces modularity and can interfere with already-existing objects."
      ]
    },
    {
      "cell_type": "code",
      "metadata": {},
      "source": [
        "#| eval: false\n",
        "from mymod import *\n",
        "\n",
        "hello()\n",
        "a"
      ],
      "execution_count": null,
      "outputs": []
    },
    {
      "cell_type": "markdown",
      "metadata": {},
      "source": [
        "As in R, you can also load in additional supporting packages for extra functionality. \n",
        "Here are some examples of importing Python packages:"
      ]
    },
    {
      "cell_type": "code",
      "metadata": {},
      "source": [
        "#| eval: false\n",
        "from math import cos\n",
        "cos(0)\n",
        "sin(0)\n",
        "math.cos(0)\n",
        "\n",
        "dir()\n",
        "\n",
        "import math\n",
        "dir()\n",
        "math.cos(0)\n",
        "math.sin(0)\n",
        "dir(math)\n",
        "\n",
        "import numpy as np\n",
        "numpy.arctan(1) \n",
        "np.arctan(1)\n",
        "import scipy as sp\n",
        "import matplotlib.pyplot as plt"
      ],
      "execution_count": null,
      "outputs": []
    },
    {
      "cell_type": "markdown",
      "metadata": {},
      "source": [
        "When we import packages, they are in different *namespaces*, which helps to avoid problems with\n",
        "different packages using the same names for different functions or objects.\n",
        "\n",
        "## Style \n",
        "\n",
        "\n",
        "Adopting standard coding conventions is good practice.\n",
        "\n",
        "-   <https://www.python.org/dev/peps/pep-0008/>\n",
        "-   <https://docs.python.org/3/tutorial/controlflow.html#intermezzo-coding-style>\n",
        "\n",
        "The first link above is the official \"Style Guide for Python Code\",\n",
        "usually referred to as PEP8 (PEP is an acronym for Python Enhancement\n",
        "Proposal). There are a couple of potentially helpful tools for helping\n",
        "you conform to the standard. The\n",
        "[pep8](https://pypi.python.org/pypi/pep8) package that provides a\n",
        "commandline tool to check your code against some of the PEP8 standard\n",
        "conventions. Similarly,\n",
        "[autopep8](https://pypi.python.org/pypi/autopep8) provides a tool to\n",
        "automatically format your code so that it conforms to the PEP8\n",
        "standards. \n",
        "\n",
        "## Documentation and getting help\n",
        "\n",
        "Getting help pulls up the relevant *docstring* (see here for\n",
        "some [guidance on writing docstrings](https://numpydoc.readthedocs.io/en/latest/format.html#docstring-standard)\n",
        "(in particular for NumPy).\n",
        "Let’s\n",
        "briefly see how you might benefit from docstrings in practice.\n",
        "\n",
        "```\n",
        "In [1]: import numpy as np\n",
        "\n",
        "In [2]: np.ndim?\n",
        "Signature: np.ndim(a)\n",
        "Docstring:\n",
        "Return the number of dimensions of an array.\n",
        "\n",
        "Parameters\n",
        "----------\n",
        "a : array_like\n",
        "    Input array.  If it is not already an ndarray, a conversion is\n",
        "    attempted.\n",
        "\n",
        "Returns\n",
        "-------\n",
        "number_of_dimensions : int\n",
        "    The number of dimensions in `a`.  Scalars are zero-dimensional.\n",
        "\n",
        "See Also\n",
        "--------\n",
        "ndarray.ndim : equivalent method\n",
        "shape : dimensions of array\n",
        "ndarray.shape : dimensions of array\n",
        "\n",
        "Examples\n",
        "--------\n",
        ">>> np.ndim([[1,2,3],[4,5,6]])\n",
        "2\n",
        ">>> np.ndim(np.array([[1,2,3],[4,5,6]]))\n",
        "2\n",
        ">>> np.ndim(1)\n",
        "0\n",
        "File:      /usr/local/linux/mambaforge-3.11/lib/python3.11/site-packages/numpy/core/fromnumeric.py\n",
        "Type:      function\n",
        "```\n",
        "\n",
        "Docstrings are an important part of Python. A docstring is a character string that occurs as the first statement in a module, function, class, or method definition. Such a docstring becomes the __doc__ special attribute of that object. All modules should normally have docstrings, and all functions and classes exported by a module should also have docstrings. \n",
        "\n",
        "We can see the docstring directly in the file indicated above (`fromnumeric.py`) as well as the actual code of the function.\n",
        "\n",
        "**Exercises**\n",
        "\n",
        "Note that `?` and `??` only work in IPython (or a Jupyter notebook). For help in plain Python, use `help(np.ndim)`.\n",
        "\n",
        "- What happens if you type `np.ndim??` (i.e., use two question marks)?\n",
        "- What does `np.ndim()` do? How does it execute under the hood? Consider why the following uses of `ndim` both work."
      ]
    },
    {
      "cell_type": "code",
      "metadata": {
        "md-indent": "  "
      },
      "source": [
        "#| eval: false\n",
        "a = np.array([0, 1, 2])\n",
        "a.ndim\n",
        "np.ndim(a)"
      ],
      "execution_count": null,
      "outputs": []
    },
    {
      "cell_type": "markdown",
      "metadata": {},
      "source": [
        "  Now explain why only one of these works."
      ]
    },
    {
      "cell_type": "code",
      "metadata": {
        "md-indent": "  "
      },
      "source": [
        "#| eval: false\n",
        "a = [0, 1, 2]\n",
        "a.ndim\n",
        "np.ndim(a)"
      ],
      "execution_count": null,
      "outputs": []
    },
    {
      "cell_type": "markdown",
      "metadata": {},
      "source": [
        "- Type `np.ndarray?` at an IPython prompt. Briefly skim the docstring.\n",
        "    `ndarray` is the basic data structure provided by NumPy. We will\n",
        "    examine it in much more detail later.\n",
        "- Type `np.` followed by the `<Tab>` key at an IPython prompt. Choose\n",
        "    two or three of the completions and use `?` to view their\n",
        "    docstrings. In particular, pay attention to the examples provided\n",
        "    near the end of the docstring and see whether you can figure out how\n",
        "    you might use this functionality. \n",
        "\n",
        "\n",
        "## Decoding error messages\n",
        "\n",
        "Let's run the following code and try to tease out where the error is. The tricky part is that the error occurs within a function where the function comes from a module (separate code file)."
      ]
    },
    {
      "cell_type": "code",
      "metadata": {},
      "source": [
        "#| eval: false\n",
        "import days\n",
        "\n",
        "days.print_friday_message()"
      ],
      "execution_count": null,
      "outputs": []
    },
    {
      "cell_type": "markdown",
      "metadata": {},
      "source": [
        "We'll run that first in a plain Python session and then in an IPython session that shows more information about what happened.\n",
        "\n",
        "The list of function calls that led to the error is called a *traceback*.  (Note that in R you can get similar output using `traceback()` after an error or setting `options(error = recover)` before an error.)\n",
        "\n",
        "# Data Structures\n",
        "\n",
        "\n",
        "Python has a number of basic data structure types that are widely used. There are both similarities and differences from basic data structures in R.\n",
        "\n",
        "-   <https://docs.python.org/3/library/stdtypes.html>\n",
        "-   <https://docs.python.org/3/tutorial/datastructures.html>\n",
        "-   <https://docs.python.org/3/reference/datamodel.html>\n",
        "\n",
        "## Numbers\n",
        "\n",
        "\n",
        "Python has integers, floats, and complex numbers with the usual\n",
        "operations."
      ]
    },
    {
      "cell_type": "code",
      "metadata": {},
      "source": [
        "2*3\n",
        "2/3\n",
        "\n",
        "x = 1.1\n",
        "type(x)\n",
        "\n",
        "x * 2\n",
        "x ** 2\n",
        "\n",
        "(type(1), type(1.1), type(1+2j))\n",
        "y = 1+2j"
      ],
      "execution_count": null,
      "outputs": []
    },
    {
      "cell_type": "markdown",
      "metadata": {},
      "source": [
        "We can apply various functions to numbers, as expected."
      ]
    },
    {
      "cell_type": "code",
      "metadata": {},
      "source": [
        "# cos(0)  # Why would this fail?\n",
        "\n",
        "import math\n",
        "math.cos(0)\n",
        "math.cos(math.pi)"
      ],
      "execution_count": null,
      "outputs": []
    },
    {
      "cell_type": "markdown",
      "metadata": {},
      "source": [
        "The `math` package in the standard library includes many additional\n",
        "numerical operations."
      ]
    },
    {
      "cell_type": "code",
      "metadata": {},
      "source": [
        "#| eval: false\n",
        "math."
      ],
      "execution_count": null,
      "outputs": []
    },
    {
      "cell_type": "markdown",
      "metadata": {},
      "source": [
        "```\n",
        "math.acos       math.degrees    math.fsum       math.pi\n",
        "math.acosh      math.e          math.gamma      math.pow\n",
        "math.asin       math.erf        math.hypot      math.radians\n",
        "math.asinh      math.erfc       math.isinf      math.sin\n",
        "math.atan       math.exp        math.isnan      math.sinh\n",
        "math.atan2      math.expm1      math.ldexp      math.sqrt\n",
        "math.atanh      math.fabs       math.lgamma     math.tan\n",
        "math.ceil       math.factorial  math.log        math.tanh\n",
        "math.copysign   math.floor      math.log10      math.trunc\n",
        "math.cos        math.fmod       math.log1p      \n",
        "math.cosh       math.frexp      math.modf\n",
        "```\n",
        "\n",
        "\n",
        "\n",
        "\n",
        "**Exercises**\n",
        "\n",
        "- Using the section on \"Built-in Types\" from the [official \"The Python\n",
        "Standard Library\" reference](https://docs.python.org/3/library/index.html), figure out how to compute:\n",
        "    1.  3 modulo 4,\n",
        "    2.  $(\\lceil \\frac{3}{4} \\rceil \\times 4)^3$, \n",
        "    and\n",
        "    3.  $\\sqrt{-1}$.\n",
        "- Is the result of `5/3 - 2/3` of the integer type? Is the mathematical value seen in Python an integer? What about `7/3-4/3`?\n",
        "- Here's a numerical puzzle. Why does the last computation not work, when the others do? And, for those of you coming from R, which of these computations don't work in R?"
      ]
    },
    {
      "cell_type": "code",
      "metadata": {
        "md-indent": "  "
      },
      "source": [
        "#| eval: false\n",
        "100000**10\n",
        "100000.0**10\n",
        "100000**100\n",
        "100000.0**100"
      ],
      "execution_count": null,
      "outputs": []
    },
    {
      "cell_type": "markdown",
      "metadata": {},
      "source": [
        "## Objects and object-oriented programming\n",
        "\n",
        "\n",
        "We'll talk about this in more detail later, but it's worth mentioning here that Python is an object-oriented language.  What this means is that variables in Python are objects that are instances of a class.\n",
        "\n",
        "Objects have methods that can be used on them and fields (member data) that are part of the object. All objects in a class have the same methods and same member data 'slots', but different objects will have different values in those slots. \n",
        "\n",
        "Note that even the basic numeric structures behave like objects. We can use tab completion to see what methods are available for an object and what member data are part of an object."
      ]
    },
    {
      "cell_type": "code",
      "metadata": {},
      "source": [
        "#| eval: false\n",
        "x = 3.0\n",
        "type(x)\n",
        "x.\n",
        "# x.as_integer_ratio  x.hex               x.real\n",
        "# x.conjugate         x.imag              \n",
        "# x.fromhex           x.is_integer        "
      ],
      "execution_count": null,
      "outputs": []
    },
    {
      "cell_type": "markdown",
      "metadata": {},
      "source": [
        "Which of those are attributes/metadata ('member data') and which are methods ('member functions')? If it's a method, say `foo`, you can run the method as `x.foo()`. If it's member data, you can see its value with `x.foo`. \n",
        "\n",
        "## Strings\n",
        "\n",
        "Strings are immutable sequences of (zero or more) characters.\n",
        "\n",
        "**Sequences**\n",
        "\n",
        "Unlike numbers, Python strings are container objects. Specifically, it\n",
        "is a sequence. Python has several sequence types including strings,\n",
        "tuples, and lists. Sequence types share some common functionality, which\n",
        "we can demonstrate with strings.\n",
        "\n",
        "**Indexing** \n",
        "\n",
        "To see how indexing works in Python let’s use the\n",
        "string containing the digits 0 through 9."
      ]
    },
    {
      "cell_type": "code",
      "metadata": {},
      "source": [
        "#| eval: false\n",
        "import string\n",
        "string.digits \n",
        "string.digits[1]\n",
        "string.digits[-1]"
      ],
      "execution_count": null,
      "outputs": []
    },
    {
      "cell_type": "markdown",
      "metadata": {},
      "source": [
        "Note that indexing starts at 0 (unlike R and Fortran, but like C).\n",
        "Also negative integers index starting from the end of the sequence.\n",
        "You can find the length of a sequence using the `len` function.\n",
        "\n",
        "**Slicing** \n",
        "\n",
        "Slicing allows you to select a subset of a string (or\n",
        "any sequence) by specifying start and stop indices as well as a\n",
        "step, which you specify using the `start:stop:step` notation inside\n",
        "of square braces.\n",
        "\n",
        "As we work through these, try to guess what they will do."
      ]
    },
    {
      "cell_type": "code",
      "metadata": {},
      "source": [
        "#| eval: false\n",
        "string.digits[1:5]\n",
        "string.digits[1:5:2]\n",
        "string.digits[1::2]\n",
        "string.digits[:5:-1]\n",
        "string.digits[1:5:-1]\n",
        "string.digits[-3:-7:-1]"
      ],
      "execution_count": null,
      "outputs": []
    },
    {
      "cell_type": "markdown",
      "metadata": {},
      "source": [
        "**Subsequence testing**"
      ]
    },
    {
      "cell_type": "code",
      "metadata": {},
      "source": [
        "#| eval: false\n",
        "'23' in string.digits \n",
        "'25' not in string.digits"
      ],
      "execution_count": null,
      "outputs": []
    },
    {
      "cell_type": "markdown",
      "metadata": {},
      "source": [
        "**String methods**"
      ]
    },
    {
      "cell_type": "code",
      "metadata": {},
      "source": [
        "#| eval: false\n",
        "string1 = \"my string\"\n",
        "string1."
      ],
      "execution_count": null,
      "outputs": []
    },
    {
      "cell_type": "markdown",
      "metadata": {},
      "source": [
        "```\n",
        "string1.capitalize  string1.islower     string1.rpartition\n",
        "string1.center      string1.isspace     string1.rsplit\n",
        "string1.count       string1.istitle     string1.rstrip\n",
        "string1.decode      string1.isupper     string1.split\n",
        "string1.encode      string1.join        string1.splitlines\n",
        "string1.endswith    string1.ljust       string1.startswith\n",
        "string1.expandtabs  string1.lower       string1.strip\n",
        "string1.find        string1.lstrip      string1.swapcase\n",
        "string1.format      string1.partition   string1.title\n",
        "string1.index       string1.replace     string1.translate\n",
        "string1.isalnum     string1.rfind       string1.upper\n",
        "string1.isalpha     string1.rindex      string1.zfill\n",
        "string1.isdigit     string1.rjust       \n",
        "```"
      ]
    },
    {
      "cell_type": "code",
      "metadata": {},
      "source": [
        "#| error: true\n",
        "string1 = \"my string\"\n",
        "string1.upper()\n",
        "\n",
        "string1.upper?\n",
        "\n",
        "string1 + \" is your string.\"\n",
        "\"*\"*10\n",
        "\n",
        "string1[3:]\n",
        "string1[3:4] \n",
        "string1[4::2]\n",
        "\n",
        "string1[3:5] = 'ts'"
      ],
      "execution_count": null,
      "outputs": []
    },
    {
      "cell_type": "code",
      "metadata": {},
      "source": [
        "#| eval: false\n",
        "string1 > \"ab\"\n",
        "string1 > \"zz\"\n",
        "string1.__"
      ],
      "execution_count": null,
      "outputs": []
    },
    {
      "cell_type": "markdown",
      "metadata": {},
      "source": [
        "```\n",
        "string1.__add__           string1.__len__\n",
        "string1.__class__         string1.__lt__\n",
        "string1.__contains__      string1.__mod__\n",
        "string1.__delattr__       string1.__mul__\n",
        "string1.__doc__           string1.__ne__\n",
        "string1.__eq__            string1.__new__\n",
        "string1.__format__        string1.__reduce__\n",
        "string1.__ge__            string1.__reduce_ex__\n",
        "string1.__getattribute__  string1.__repr__\n",
        "string1.__getitem__       string1.__rmod__\n",
        "string1.__getnewargs__    string1.__rmul__\n",
        "string1.__getslice__      string1.__setattr__\n",
        "string1.__gt__            string1.__sizeof__\n",
        "string1.__hash__          string1.__str__\n",
        "string1.__init__          string1.__subclasshook__\n",
        "```\n",
        "\n",
        "What do you think is invoked when one does `string1 > 'ab'`?\n",
        "\n",
        "**Exercises**\n",
        "\n",
        "- Using this string: `x = 'The ant wants what all ants want.'`, solve the following string manipulation problems using string indexing, slicing, methods, and subsequence testing:\n",
        "    1.  Convert the string to all lower case letters (don’t change x).\n",
        "    2.  Count the number of occurrences of the substring `ant`.\n",
        "    3.  Create a list of the words occurring in `x`. Make sure to remove\n",
        "    punctuation and convert all words to lowercase.\n",
        "    4.  Using only string methods on `x`, create the following string:\n",
        "    `The chicken wants what all chickens want.`\n",
        "    5.  Using indexing and the `+` operator, create the following string:\n",
        "    `The tna wants what all ants want.`\n",
        "    6.  Do the same thing except using a string method instead.\n",
        "- What can you do with the `in` and `not in` operators?  For those coming from R, what R operator is this like and how is it different?\n",
        "- Figure out what code you could run to figure out if Python is explicitly counting the number of characters when it does `len(x)`?\n",
        "- Compare the time for computing the length of a (long) string in Python and R. What can you infer about what is happening behind the scenes?\n",
        "\n",
        "\n",
        "## Tuples\n",
        "\n",
        "\n",
        "Tuples are immutable sequences of (zero or more) objects. Functions in\n",
        "Python often return tuples."
      ]
    },
    {
      "cell_type": "code",
      "metadata": {},
      "source": [
        "#| error: true\n",
        "x = 1; y = 'foo'\n",
        "\n",
        "xy = (x, y)\n",
        "type(xy)\n",
        "xy = x,y\n",
        "type(xy)\n",
        "\n",
        "xy\n",
        "xy[1]\n",
        "\n",
        "xy[1] = 3  # immutable!"
      ],
      "execution_count": null,
      "outputs": []
    },
    {
      "cell_type": "markdown",
      "metadata": {},
      "source": [
        "**Exercises**\n",
        "\n",
        "- What's weird about this? What are the types involved?"
      ]
    },
    {
      "cell_type": "code",
      "metadata": {
        "md-indent": "  "
      },
      "source": [
        "z = x,y\n",
        "a,b = x,y"
      ],
      "execution_count": null,
      "outputs": []
    },
    {
      "cell_type": "markdown",
      "metadata": {},
      "source": [
        "- Create the following: `x=5` and `y=6`. Now swap their values using a single line of code. (For R users, how would you do this in R?)\n",
        "- What happens when you multiply a tuple by a number? For R users, how is this different than similar syntax in R?\n",
        "- What's nice about using immutable objects in your code?\n",
        "\n",
        "## Lists\n",
        "\n",
        "\n",
        "Lists are mutable sequences of (zero or more) objects."
      ]
    },
    {
      "cell_type": "code",
      "metadata": {},
      "source": [
        "dice = [1, 2, 3, 4, 5, 6]\n",
        "\n",
        "dice[1::2]\n",
        "\n",
        "dice[1::2] = dice[::2]\n",
        "\n",
        "dice\n",
        "\n",
        "dice*2\n",
        "\n",
        "dice+dice[::-1]\n",
        "\n",
        "1 in dice\n",
        "\n",
        "dice.extend(dice)\n",
        "\n",
        "dice2 = dice.copy()\n",
        "id(dice)   # the 'id' gives the location in memory where the object is stored\n",
        "id(dice2)\n",
        "\n",
        "dice.append(dice2)\n",
        "# if use dice.append(dice) it embeds a pointer to itself "
      ],
      "execution_count": null,
      "outputs": []
    },
    {
      "cell_type": "markdown",
      "metadata": {},
      "source": [
        "**Exercises**\n",
        "\n",
        "-  Create a list of numbers. Reverse the order of the items in the list\n",
        "    using slicing. Now reverse the order of the items using a list\n",
        "    method. How does using the method differ from slicing? \n",
        "- Do you think tuples have a method to reverse the order of its items?\n",
        "    Why or why not? Check to see if you are correct or not.\n",
        "-  Using a list method sort your numbers. Create a list of strings and\n",
        "    sort it. \n",
        "- Figure out some different ways of combining your list of numbers with your list of strings to create a single list of mixed type elements.\n",
        "- Now try to sort the resulting list. What happens?\n",
        "- What does the following tell you about copying and use of memory in Python?"
      ]
    },
    {
      "cell_type": "code",
      "metadata": {
        "md-indent": "  "
      },
      "source": [
        "#| eval: false\n",
        "a = [1, 3, 5]\n",
        "b = a\n",
        "id(a)\n",
        "id(b)\n",
        "# this should confirm what you might suspect\n",
        "a[1] = 5"
      ],
      "execution_count": null,
      "outputs": []
    },
    {
      "cell_type": "markdown",
      "metadata": {},
      "source": [
        "## Dictionaries\n",
        "\n",
        "\n",
        "Dictionaries are mutable, unordered collections of key-value pairs."
      ]
    },
    {
      "cell_type": "code",
      "metadata": {},
      "source": [
        "students = {\"Jarrod Millman\": ['A', 'B+', 'A-'], \n",
        "            \"Thomas Kluyver\": ['A-', 'A-'], \n",
        "            \"Stefan van der Walt\": 'and now for something completely different'}\n",
        "students\n",
        "students.keys()\n",
        "students.values()\n",
        "students[\"Jarrod Millman\"]\n",
        "students[\"Jarrod Millman\"][1]"
      ],
      "execution_count": null,
      "outputs": []
    },
    {
      "cell_type": "code",
      "metadata": {},
      "source": [
        "#| eval: false\n",
        "students."
      ],
      "execution_count": null,
      "outputs": []
    },
    {
      "cell_type": "markdown",
      "metadata": {},
      "source": [
        "```\n",
        "students.clear(       students.items(       students.setdefault(\n",
        "students.copy(        students.keys(        students.update(\n",
        "students.fromkeys(    students.pop(         students.values(\n",
        "students.get(         students.popitem()    \n",
        "```\n",
        "\n",
        "**Exercises**\n",
        "\n",
        "- How can you add an item to a dictionary.\n",
        "- How do you combine two dictionaries into a single dictionary?\n",
        "- What are some analogs to dictionaries in R? \n",
        "- How are dictionaries different from such analogous structures in R?\n",
        "\n",
        "## Sets\n",
        "\n",
        "\n",
        "Sets are immutable, unordered collections of unique elements."
      ]
    },
    {
      "cell_type": "code",
      "metadata": {},
      "source": [
        "#| eval: false\n",
        "x =  {1, 2, 4, 1, 4}\n",
        "x\n",
        "x."
      ],
      "execution_count": null,
      "outputs": []
    },
    {
      "cell_type": "markdown",
      "metadata": {},
      "source": [
        "```\n",
        "x.add                          x.issubset\n",
        "x.clear                        x.issuperset\n",
        "x.copy                         x.pop\n",
        "x.difference                   x.remove\n",
        "x.difference_update            x.symmetric_difference\n",
        "x.discard                      x.symmetric_difference_update\n",
        "x.intersection                 x.union\n",
        "x.intersection_update          x.update\n",
        "x.isdisjoint                   \n",
        "```\n",
        "\n",
        "# Built-in functions\n",
        "\n",
        "-   <https://docs.python.org/3/library/functions.html>\n",
        "\n",
        "Python has several built-in functions (you can find a full list using\n",
        "the link above). We’ve already used a few (e.g.,\n",
        "`len(), type(), print()`). Here are a few more that we you will find\n",
        "useful.\n",
        "\n",
        "`zip` and `enumerate` create objects that you can iterate through, but you can't view the elements directly except by looping over them. They're useful either to convert to lists or to loop through element by element."
      ]
    },
    {
      "cell_type": "code",
      "metadata": {},
      "source": [
        "x = zip([1, 2], [\"a\", \"b\"])\n",
        "list(x)"
      ],
      "execution_count": null,
      "outputs": []
    },
    {
      "cell_type": "markdown",
      "metadata": {},
      "source": [
        "That's sort of like `cbind` in R."
      ]
    },
    {
      "cell_type": "code",
      "metadata": {},
      "source": [
        "enumerate([\"a\", \"b\"])\n",
        "list(enumerate([\"a\", \"b\"]))"
      ],
      "execution_count": null,
      "outputs": []
    },
    {
      "cell_type": "markdown",
      "metadata": {},
      "source": [
        "We'll soon see an example usage of enumerate within the context of looping.\n",
        "\n",
        "Some other useful built-in functions are  `abs()`, `all()`, `any()`, `dict()`,\n",
        "    `dir()`, `id()`, `list()`, and `set()`.\n",
        "\n",
        "# Control flow\n",
        "\n",
        "-   <https://docs.python.org/3/tutorial/controlflow.html>\n",
        "\n",
        "## If-then-else\n",
        "\n",
        "-   <https://docs.python.org/3/tutorial/controlflow.html#if-statements>\n",
        "\n",
        "This is as expected based on your experience with other languages. As previously noted, the indentation is important."
      ]
    },
    {
      "cell_type": "code",
      "metadata": {},
      "source": [
        "x = 2\n",
        "\n",
        "if a >=4 :    \n",
        "    print('a is big')\n",
        "    if(a == 4):\n",
        "        print('a is 4')\n",
        "else:\n",
        "    print('a is small')\n",
        "\n",
        "if a >=4 :    \n",
        "    print('a is big')\n",
        "    if(a == 4):\n",
        "        print('a is 4')\n",
        "    else:\n",
        "        print('a is not 4')"
      ],
      "execution_count": null,
      "outputs": []
    },
    {
      "cell_type": "markdown",
      "metadata": {},
      "source": [
        "## For-loops (and list comprehension)\n",
        "\n",
        "\n",
        "-   <https://docs.python.org/3/tutorial/controlflow.html#for-statements>\n",
        "-   <https://docs.python.org/3/whatsnew/2.0.html#list-comprehensions>\n",
        "\n",
        "Here's basic use of a for loop. Once again indentation is critical, in this case for indicating where the loop ends."
      ]
    },
    {
      "cell_type": "code",
      "metadata": {},
      "source": [
        "for x in [1,2,3,4]:\n",
        "    print(x)\n",
        "\n",
        "for x in [1,2,3,4]:\n",
        "    y = x*2\n",
        "    print(y, end=\" \")\n",
        "\n",
        "print(\"\\n\")\n",
        "for x in range(30):\n",
        "    y = x\n",
        "print(y, end=\" \")"
      ],
      "execution_count": null,
      "outputs": []
    },
    {
      "cell_type": "markdown",
      "metadata": {},
      "source": [
        "Building up a list piece-by-piece is a common task, which can easily be\n",
        "done in a for-loop. List comprehension provides a compact syntax to\n",
        "handle this task."
      ]
    },
    {
      "cell_type": "code",
      "metadata": {},
      "source": [
        "[x for x in range(4)]\n",
        "\n",
        "vals = [-4, 3, -1, 2.5, 7]\n",
        "[x for x in vals if x > 0]  # list comprehension\n",
        "\n",
        "import string\n",
        "letters = string.ascii_lowercase\n",
        "\n",
        "# concise but terse:\n",
        "[l[1] for l in enumerate(letters) if l[0] > 13]\n",
        "# better style:\n",
        "[letter for index, letter in enumerate(letters) if index > 13]\n",
        "\n",
        "x = zip(['clinton', 'bush', 'obama', 'trump'], ['Dem', 'Rep', 'Dem', 'Rep'])\n",
        "for pres,party in x:\n",
        "    print(pres, party)\n",
        "\n",
        "# note if we try to do the loop again, we get nothing, because\n",
        "# we have emptied the iterator when we loop through it\n",
        "for pres,party in x:\n",
        "    print(pres, party)"
      ],
      "execution_count": null,
      "outputs": []
    },
    {
      "cell_type": "markdown",
      "metadata": {},
      "source": [
        "**Exercises**\n",
        "\n",
        "- See what `[1, 2, 3] + 3` returns. Try to explain what happened and why.\n",
        "- Use list comprehension to perform element-wise addition of a scalar to a list of scalars.\n",
        "- How would you do the same task using a for loop? The `range` function may be helpful as might the `enumerate` function.\n",
        "- Use a for loop to iterate through the elements of a zip object and determine the type of the individual elements. \n",
        "\n",
        "\n",
        "# Functions\n",
        "\n",
        "-   <https://docs.python.org/3/tutorial/controlflow.html#defining-functions>\n",
        "\n",
        "Here's an example that illustrates both positional arguments (always first) and named arguments."
      ]
    },
    {
      "cell_type": "code",
      "metadata": {},
      "source": [
        "#| error: true\n",
        "def add(x, y=1, absol=False):\n",
        "    if absol:\n",
        "        return(abs(x+y))\n",
        "    else:\n",
        "        return(x+y)\n",
        "\n",
        "add(3)\n",
        "add(3, 5)\n",
        "\n",
        "add(3, absol=True, y=-5)\n",
        "\n",
        "add(y=-5, x=3)\n",
        "add(y=-5, 3)"
      ],
      "execution_count": null,
      "outputs": []
    },
    {
      "cell_type": "markdown",
      "metadata": {},
      "source": [
        "**Exercises**\n",
        "\n",
        "- Define a function that will take the sqrt of a number and will (if requested by the user) set the square root of a negative number to 0.\n",
        "- Now use the function in a list comprehension to operate on a list of numbers.\n",
        "- What happens if you modify a list within a function in Python; why do you think this is?\n",
        "- What happens if you modify a single number (scalar) within a function in Python; why do you think this is?\n",
        "- Recall how scoping works in R in terms of where objects are looked for if not found locally in a function (i.e., lexical scoping). Empirically assess how scoping works in Python. In other words, consider this function and how it will behave depending on where `f` is defined."
      ]
    },
    {
      "cell_type": "code",
      "metadata": {
        "md-indent": "  "
      },
      "source": [
        "#| eval: false\n",
        "def f(x):\n",
        "    return(x+y)"
      ],
      "execution_count": null,
      "outputs": []
    },
    {
      "cell_type": "markdown",
      "metadata": {},
      "source": [
        "# Classes\n",
        "\n",
        "-   <https://docs.python.org/3/tutorial/classes.html>\n",
        "\n",
        "We've already seen a bunch of object-oriented behavior. Here we'll see how to make our own classes and objects that are instances (realizations) of a class."
      ]
    },
    {
      "cell_type": "code",
      "metadata": {},
      "source": [
        "class Rectangle(object):\n",
        "    dim = 2  # class variable\n",
        "    counter = 0\n",
        "    def __init__(self, height, width):\n",
        "        self.height = height  # instance variable\n",
        "        self.width = width    # instance variable\n",
        "        self.set_diagonal()\n",
        "        Rectangle.counter += 1\n",
        "    def __repr__(self):\n",
        "        return(\"{0} by {1} rectangle\".format(self.height, self.width))        \n",
        "    def area(self, verbose = False):\n",
        "        if verbose:\n",
        "            print('Computing the area... ')\n",
        "        return(self.height*self.width)\n",
        "    def set_diagonal(self):\n",
        "        self.diagonal = pow(self.height**2 + self.width**2, 0.5)\n",
        "\n",
        "x = Rectangle(10, 5)\n",
        "\n",
        "x.dim\n",
        "x.dim = 'foo'\n",
        "x.dim # hmmm\n",
        "\n",
        "x.area()\n",
        "Rectangle.area(x)\n",
        "\n",
        "y = Rectangle(4, 8)\n",
        "y.counter\n",
        "x.counter"
      ],
      "execution_count": null,
      "outputs": []
    },
    {
      "cell_type": "markdown",
      "metadata": {},
      "source": [
        "# Data formats\n",
        "\n",
        "\n",
        "## CSV\n",
        "\n",
        "\n",
        "-   <https://docs.python.org/3/library/csv.html>\n",
        "\n",
        "The Python standard library provides a package for reading and writing\n",
        "CSV files. This is a somewhat low-level library, so in practice you will\n",
        "often use Pandas (or perhaps NumPy/SciPy) CSV functionality.\n",
        "\n",
        "## JSON\n",
        "\n",
        "-   <https://docs.python.org/3/library/json.html>\n",
        "\n",
        "However the JSON package in the standard library is much more useful."
      ]
    },
    {
      "cell_type": "code",
      "metadata": {},
      "source": [
        "import json\n",
        "\n",
        "x = {\"name\": \"Jarrod\", \"department\": \"Biostatistics\"}\n",
        "\n",
        "with open(\"tmp.json\", \"w\") as outfile: \n",
        "    json.dump(x, outfile)\n",
        "\n",
        "# cat tmp.json  # special IPython functionality\n",
        "\n",
        "with open(\"tmp.json\") as infile:\n",
        "    y = json.load(infile)\n",
        "\n",
        "y"
      ],
      "execution_count": null,
      "outputs": []
    },
    {
      "cell_type": "markdown",
      "metadata": {},
      "source": [
        "Note that `cat` is not a Python statement. IPython is clever enough to\n",
        "guess that you want it to call out to the underlying operating system.\n",
        "\n",
        "**Exercise**\n",
        "\n",
        "-   One of the nice things above the JSON format is that it so well\n",
        "    structured that it easy for a machine to parse, but simple enough\n",
        "    that it easy for humans to read. By default `json.dump` writes\n",
        "    everything out to disk without line breaks. For readability\n",
        "    purposes, use `json.dump?` to figure out how to pretty-print the\n",
        "    text as well as sort it alphabetically by key.\n",
        "-   Read in one of the JSON files in the `project` directory and experiment with pretty-printing it when you dump it back out to a file.\n",
        "\n",
        "# Standard library\n",
        "\n",
        "\n",
        "-   <https://docs.python.org/3/tutorial/stdlib.html>\n",
        "\n",
        "Python provides a wealth of functionality in its huge standard library.\n",
        "We’ve already seen several packages in the standard library (e.g., `math`, `csv`, `json`). If you need some\n",
        "functionality the standard library is one of the first places to look.\n",
        "\n",
        "Here are a couple packages that you may find useful.\n",
        "\n",
        "## os\n",
        "\n",
        "\n",
        "-   <https://docs.python.org/3/tutorial/stdlib.html#operating-system-interface>"
      ]
    },
    {
      "cell_type": "code",
      "metadata": {},
      "source": [
        "#| eval: false\n",
        "import os\n",
        "\n",
        "os.getcwd()\n",
        "pwd           # IPython operating system call\n",
        "\n",
        "os.chdir('..')\n",
        "os.getcwd()"
      ],
      "execution_count": null,
      "outputs": []
    },
    {
      "cell_type": "markdown",
      "metadata": {},
      "source": [
        "**Exercise**\n",
        "\n",
        "-   Use `os?` and `dir(os)` to explore the os package.\n",
        "\n",
        "## re\n",
        "\n",
        "-   <https://docs.python.org/3/howto/regex.html>\n",
        "\n",
        "The `re` package provides support for regular expressions.\n",
        "\n",
        "# Math, statistics, and plotting\n",
        "\n",
        "## Numpy and scipy\n",
        "\n",
        "\n",
        "Standard lists in Python are not amenable to mathematical manipulation, unlike standard vectors in R. Instead we generally work with numpy arrays. These arrays can be of various dimensions (i.e., vectors, matrices, multi-dimensional arrays)."
      ]
    },
    {
      "cell_type": "code",
      "metadata": {},
      "source": [
        "import numpy as np\n",
        "z = [0, 1, 2] \n",
        "\n",
        "y = np.array(z)\n",
        "y*3\n",
        "\n",
        "y.dtype\n",
        "\n",
        "\n",
        "x = np.array([[1, 2], [3, 4]], dtype=np.float64)\n",
        "x*x\n",
        "x.dot(x)\n",
        "x.T\n",
        "\n",
        "np.linalg.svd(x)\n",
        "\n",
        "e = np.linalg.eig(x)\n",
        "\n",
        "e[0]  # first eigenvalue (not the largest in this case...)\n",
        "e[1][:, 0] # corresponding eigenvector"
      ],
      "execution_count": null,
      "outputs": []
    },
    {
      "cell_type": "markdown",
      "metadata": {},
      "source": [
        "All of the elements of the array must be of the same type.\n",
        "\n",
        "There are a variety of numpy functions that allow us to do standard mathematical/statistical manipulations. \n",
        "\n",
        "Here we'll use some of those functions in addition to some syntax for subsetting and vectorized calculations."
      ]
    },
    {
      "cell_type": "code",
      "metadata": {},
      "source": [
        "np.linspace(0, 1, 5)\n",
        "\n",
        "np.random.seed(0)\n",
        "x = np.random.normal(size=10)\n",
        "\n",
        "pos = x > 0\n",
        "\n",
        "y = x[pos]\n",
        "\n",
        "x[[1, 3, 4]]\n",
        "\n",
        "x[pos] = 0\n",
        "\n",
        "np.cos(x)"
      ],
      "execution_count": null,
      "outputs": []
    },
    {
      "cell_type": "markdown",
      "metadata": {},
      "source": [
        "scipy has even more numerical routines, including working with distributions and additional linear algebra."
      ]
    },
    {
      "cell_type": "code",
      "metadata": {},
      "source": [
        "import scipy.stats as st\n",
        "st.norm.cdf(1.96, 0, 1)\n",
        "st.norm.cdf(1.96, 0.5, 2)\n",
        "st.norm(0.5, 2).cdf(1.96)"
      ],
      "execution_count": null,
      "outputs": []
    },
    {
      "cell_type": "markdown",
      "metadata": {},
      "source": [
        "**Exercise**\n",
        "\n",
        "- See what happens if you try to create a 2-d numpy array with one column of numbers and one column of characters/strings.\n",
        "- Try to add a vector to a matrix; how does this compare to R?\n",
        "- How do you compute the variance of each column of a matrix (akin to `apply(x, 2, var)` in R)? Try this first without ChatGPT, and then (if you have access to ChatGPT) see what ChatGPT tells you.\n",
        "\n",
        "\n",
        "## Pandas\n",
        "\n",
        "\n",
        "Pandas provides a Python implementation of R's dataframe capabilities. Let's see some example code."
      ]
    },
    {
      "cell_type": "code",
      "metadata": {},
      "source": [
        "import pandas as pd\n",
        "dat = pd.read_csv('gapminder.csv')\n",
        "dat.head()\n",
        "\n",
        "dat.columns\n",
        "dat['year']\n",
        "dat.year\n",
        "dat[0:5]\n",
        "\n",
        "dat.sort_values(['year', 'country'])\n",
        "\n",
        "dat.loc[0:5, ['year', 'country']]  # R-style indexing\n",
        "\n",
        "dat[dat.year == 1952]\n",
        "\n",
        "ndat = dat[['pop','lifeExp','gdpPercap']]\n",
        "ndat.apply(lambda col: col.max() - col.min())"
      ],
      "execution_count": null,
      "outputs": []
    },
    {
      "cell_type": "markdown",
      "metadata": {},
      "source": [
        "Now let's see the sort of split-apply-combine functionality that is popular in dplyr and related R packages."
      ]
    },
    {
      "cell_type": "code",
      "metadata": {},
      "source": [
        "dat2007 = dat[dat.year == 2007].copy()  \n",
        "\n",
        "dat2007.groupby('continent', as_index=False).mean()\n",
        "\n",
        "def stdize(vals):\n",
        "    return((vals - vals.mean()) / vals.std())\n",
        "\n",
        "dat2007['lifeExpZ'] = dat2007.groupby('continent')['lifeExp'].transform(stdize)"
      ],
      "execution_count": null,
      "outputs": []
    },
    {
      "cell_type": "markdown",
      "metadata": {},
      "source": [
        "**Exercise**\n",
        "\n",
        "- Use `pd.merge()` to merge the continent means for life expectancy for 2007 back into the original `dat2007` dataFrame.\n",
        "- Explore the pandas documentation to see if  there is a way to add the continent means as a column without an explicit merge (i.e., mimicing capability built into R's dplyr mutate function)?\n",
        "\n",
        "## Matplotlib\n",
        "\n",
        "\n",
        "Work through the material in [the Matplotlib tutorial](http://matplotlib.org/users/pyplot_tutorial.html) and then solve the following problems.\n",
        "\n",
        "\n",
        "**Exercise**\n",
        "\n",
        "- Make a scatterplot of lifeExp vs gdpPerCap for 2007; make sure you have nice axis labels and title.\n",
        "- Consider whether plotting income on a logarithmic axis is a better way to display the data.\n",
        "- Now make an array of plots (in one figure) where each subplot is a different year.\n",
        "- Now modify the plot so that the color of the point indicates the continent and add a legend that explains this (hint: it's probably easier to do this with plt.scatter than plt.plot). Hint: This snippet of code can help with relating continents to particular colors: `dict(zip(conts, colors))`.\n",
        "- Find an outlier whose lifeExp is unexpectedly high or low and add text in the plot that associates the point with the name of the country (e.g., I suspect Cuba will be unexpectedly high and an oil-producing country may be unexpectedly low).\n",
        "\n",
        "\n",
        "# Mini-project\n",
        "\n",
        "\n",
        "Please open `project.html` and work through the analysis of the Senatorial tweets with your group.\n",
        "\n",
        "# A Note on the Contents\n",
        "\n",
        "This content was adapted by Chris Paciorek from [material prepared by K. Jarrod Millman](http://www.jarrodmillman.com/capstone/bootcamp/standard.html) and is licensed under the [CC BY-NC-SA 4.0 license](http://creativecommons.org/licenses/by-nc-sa/4.0/)."
      ]
    }
  ],
  "metadata": {
    "kernelspec": {
      "name": "python3",
      "language": "python",
      "display_name": "Python 3 (ipykernel)"
    }
  },
  "nbformat": 4,
  "nbformat_minor": 4
}